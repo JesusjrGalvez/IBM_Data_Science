{
 "cells": [
  {
   "cell_type": "markdown",
   "metadata": {},
   "source": [
    "# Data Science Tools and Ecosystem\n",
    "\n",
    "\n",
    "\n",
    "\n"
   ]
  },
  {
   "cell_type": "markdown",
   "metadata": {},
   "source": [
    "In this notebook, Data Science Tools and Ecosystem are summarized."
   ]
  },
  {
   "cell_type": "markdown",
   "metadata": {},
   "source": [
    "\n",
    "List the ***objectives*** that this notebook covered:\n",
    "* Markdowns. \n",
    "* Creating tables in markdowns. \n",
    "* Creating bold text in markdowns. \n",
    "* List popular languages for Data Science. \n",
    "* Creating code snippets. "
   ]
  },
  {
   "cell_type": "markdown",
   "metadata": {},
   "source": [
    "\n",
    "Some of the popular languages that Data Scientists use are:\n",
    "1. Python.\n",
    "2. R. \n",
    "3. Julia. \n"
   ]
  },
  {
   "cell_type": "markdown",
   "metadata": {},
   "source": [
    "\n",
    "Some of the commonly used libraries used by Data Scientists include:\n",
    "1.  matplotlib.\n",
    "1.  pandas. \n",
    "1.  numpy. \n",
    "1.  tensorflow. \n"
   ]
  },
  {
   "cell_type": "markdown",
   "metadata": {},
   "source": [
    "\n",
    "Below is a table of development environment open source tools used in data science.\n",
    "\n",
    "| Data Science Tools |\n",
    "|--------------------|\n",
    "|Jupyter Notebooks|\n",
    "| R Studio|\n",
    "|Spyder|\n",
    "|VS Code|\n"
   ]
  },
  {
   "cell_type": "markdown",
   "metadata": {},
   "source": [
    "\n",
    "### Below are a few examples of evaluating arithmetic expressions in Python"
   ]
  },
  {
   "cell_type": "code",
   "execution_count": 3,
   "metadata": {},
   "outputs": [
    {
     "name": "stdout",
     "output_type": "stream",
     "text": [
      "3 + 2 = 5\n",
      "5 - 2 = 3\n"
     ]
    }
   ],
   "source": [
    "# Addition\n",
    "addition = 3 + 2\n",
    "print(\"3 + 2 =\", addition)\n",
    "\n",
    "# Subtraction\n",
    "subtraction = 5 - 2\n",
    "print(\"5 - 2 =\", subtraction)\n"
   ]
  },
  {
   "cell_type": "code",
   "execution_count": 8,
   "metadata": {},
   "outputs": [
    {
     "name": "stdout",
     "output_type": "stream",
     "text": [
      "(3 * 4) + 5 = 17\n"
     ]
    }
   ],
   "source": [
    "# Multiplication and addition\n",
    "# This a simple arithmetic expression to mutiply then add integers\n",
    "expression_result = (3 * 4) + 5\n",
    "print(\"(3 * 4) + 5 =\", expression_result)\n"
   ]
  },
  {
   "cell_type": "code",
   "execution_count": 13,
   "metadata": {},
   "outputs": [
    {
     "name": "stdout",
     "output_type": "stream",
     "text": [
      "200 minutes is 3.3333333333333335 hours.\n"
     ]
    }
   ],
   "source": [
    "# Minutes to hours conversion function. \n",
    "# This will convert 200 minutes to hours by diving by 60. \n",
    "\n",
    "def minutes_to_hours(minutes):\n",
    "    hours = minutes / 60\n",
    "    return hours\n",
    "\n",
    "print(\"200 minutes is\", minutes_to_hours(200), \"hours.\")"
   ]
  },
  {
   "cell_type": "markdown",
   "metadata": {},
   "source": [
    "## Author\n",
    "Jesus Galvez"
   ]
  }
 ],
 "metadata": {
  "kernelspec": {
   "display_name": "base",
   "language": "python",
   "name": "python3"
  },
  "language_info": {
   "codemirror_mode": {
    "name": "ipython",
    "version": 3
   },
   "file_extension": ".py",
   "mimetype": "text/x-python",
   "name": "python",
   "nbconvert_exporter": "python",
   "pygments_lexer": "ipython3",
   "version": "3.9.12"
  }
 },
 "nbformat": 4,
 "nbformat_minor": 2
}
